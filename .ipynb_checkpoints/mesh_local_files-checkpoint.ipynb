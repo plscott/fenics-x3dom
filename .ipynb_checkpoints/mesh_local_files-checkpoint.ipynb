{
 "cells": [
  {
   "cell_type": "code",
   "execution_count": 4,
   "metadata": {
    "collapsed": true
   },
   "outputs": [],
   "source": [
    "from dolfin import *\n",
    "from IPython.display import HTML"
   ]
  },
  {
   "cell_type": "code",
   "execution_count": 5,
   "metadata": {
    "collapsed": true
   },
   "outputs": [],
   "source": [
    "mesh = UnitSquareMesh(4,4)"
   ]
  },
  {
   "cell_type": "code",
   "execution_count": 6,
   "metadata": {
    "collapsed": false
   },
   "outputs": [
    {
     "data": {
      "text/html": [
       "<!DOCTYPE html>\n",
       "<html>\n",
       "  <head>\n",
       "    <meta http-equiv=\"content-type\" content=\"text/html;charset=UTF-8\" />\n",
       "    <meta name=\"generator\" content=\"FEniCS/DOLFIN (http://fenicsproject.org)\" />\n",
       "    <title>FEniCS/DOLFIN X3DOM plot</title>\n",
       "    <script type=\"text/javascript\" src=\"x3dom.js\"></script>\n",
       "    <link rel=\"stylesheet\" type=\"text/css\" href=\"x3dom.css\" />\n",
       "  </head>\n",
       "  <body>\n",
       "    <x3d showStat=\"false\" xmlns=\"http://www.web3d.org/specifications/x3d-namespace\" width=\"500.000000px\" height=\"400.000000px\">\n",
       "      <scene>\n",
       "        <shape>\n",
       "          <appearance>\n",
       "            <material diffuseColor=\"1.000000 1.000000 1.000000\" emissiveColor=\"0.000000 0.000000 0.000000\" specularColor=\"0.000000 0.000000 0.000000\" ambientIntensity=\"0\" shininess=\"0.5\" transparency=\"0\"></material>\n",
       "          </appearance>\n",
       "          <indexedFaceSet solid=\"false\" colorPerVertex=\"false\" coordIndex=\"0 1 6 -1 0 5 6 -1 1 2 7 -1 1 6 7 -1 2 3 8 -1 2 7 8 -1 3 4 9 -1 3 8 9 -1 5 6 11 -1 5 10 11 -1 6 7 12 -1 6 11 12 -1 7 8 13 -1 7 12 13 -1 8 9 14 -1 8 13 14 -1 10 11 16 -1 10 15 16 -1 11 12 17 -1 11 16 17 -1 12 13 18 -1 12 17 18 -1 13 14 19 -1 13 18 19 -1 15 16 21 -1 15 20 21 -1 16 17 22 -1 16 21 22 -1 17 18 23 -1 17 22 23 -1 18 19 24 -1 18 23 24 -1 \">\n",
       "            <coordinate point=\"0 0 0 0.25 0 0 0.5 0 0 0.75 0 0 1 0 0 0 0.25 0 0.25 0.25 0 0.5 0.25 0 0.75 0.25 0 1 0.25 0 0 0.5 0 0.25 0.5 0 0.5 0.5 0 0.75 0.5 0 1 0.5 0 0 0.75 0 0.25 0.75 0 0.5 0.75 0 0.75 0.75 0 1 0.75 0 0 1 0 0.25 1 0 0.5 1 0 0.75 1 0 1 1 0 \"></coordinate>\n",
       "          </indexedFaceSet>\n",
       "        </shape>\n",
       "        <shape>\n",
       "          <appearance>\n",
       "            <material emissiveColor=\"0.000000 0.000000 0.000000\" specularColor=\"0.000000 0.000000 0.000000\" ambientIntensity=\"0\" shininess=\"0.5\" transparency=\"0\"></material>\n",
       "          </appearance>\n",
       "          <indexedLineSet solid=\"false\" colorPerVertex=\"false\" coordIndex=\"0 1 -1 0 5 -1 0 6 -1 1 2 -1 1 6 -1 1 7 -1 2 3 -1 2 7 -1 2 8 -1 3 4 -1 3 8 -1 3 9 -1 4 9 -1 5 6 -1 5 10 -1 5 11 -1 6 7 -1 6 11 -1 6 12 -1 7 8 -1 7 12 -1 7 13 -1 8 9 -1 8 13 -1 8 14 -1 9 14 -1 10 11 -1 10 15 -1 10 16 -1 11 12 -1 11 16 -1 11 17 -1 12 13 -1 12 17 -1 12 18 -1 13 14 -1 13 18 -1 13 19 -1 14 19 -1 15 16 -1 15 20 -1 15 21 -1 16 17 -1 16 21 -1 16 22 -1 17 18 -1 17 22 -1 17 23 -1 18 19 -1 18 23 -1 18 24 -1 19 24 -1 20 21 -1 21 22 -1 22 23 -1 23 24 -1 \">\n",
       "            <coordinate point=\"0 0 0 0.25 0 0 0.5 0 0 0.75 0 0 1 0 0 0 0.25 0 0.25 0.25 0 0.5 0.25 0 0.75 0.25 0 1 0.25 0 0 0.5 0 0.25 0.5 0 0.5 0.5 0 0.75 0.5 0 1 0.5 0 0 0.75 0 0.25 0.75 0 0.5 0.75 0 0.75 0.75 0 1 0.75 0 0 1 0 0.25 1 0 0.5 1 0 0.75 1 0 1 1 0 \"></coordinate>\n",
       "          </indexedLineSet>\n",
       "        </shape>\n",
       "        <viewpoint id=\"default\" position=\"1.914214 1.914214 1.414214\" orientation=\"-0.7071067812 0.7071067812 0 1\" fieldOfView=\"0.785398\" centerOfRotation=\"0.500000 0.500000 0.000000\" zNear=\"-1\" zFar=\"-1\"></viewpoint>\n",
       "        <background skyColor=\"0.950000 0.950000 0.950000\"></background>\n",
       "        <directionalLight ambientIntensity=\"0\" intensity=\"1\"></directionalLight>\n",
       "      </scene>\n",
       "    </x3d>\n",
       "    <div style=\"position: absolute; margin: 1%; text-align: left; font-size: 12px; color: black;\">Number of vertices: 25, number of cells: 32</div>\n",
       "  </body>\n",
       "</html>\n"
      ],
      "text/plain": [
       "<IPython.core.display.HTML object>"
      ]
     },
     "execution_count": 6,
     "metadata": {},
     "output_type": "execute_result"
    }
   ],
   "source": [
    "source = (mesh._repr_html_()).replace(\"http://www.x3dom.org/download/\", \"\")\n",
    "HTML(source)"
   ]
  }
 ],
 "metadata": {
  "kernelspec": {
   "display_name": "Python 2",
   "language": "python",
   "name": "python2"
  },
  "language_info": {
   "codemirror_mode": {
    "name": "ipython",
    "version": 2
   },
   "file_extension": ".py",
   "mimetype": "text/x-python",
   "name": "python",
   "nbconvert_exporter": "python",
   "pygments_lexer": "ipython2",
   "version": "2.7.10"
  }
 },
 "nbformat": 4,
 "nbformat_minor": 0
}
