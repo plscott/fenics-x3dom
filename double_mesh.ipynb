{
 "cells": [
  {
   "cell_type": "code",
   "execution_count": 8,
   "metadata": {
    "collapsed": true
   },
   "outputs": [],
   "source": [
    "from dolfin import *"
   ]
  },
  {
   "cell_type": "code",
   "execution_count": 2,
   "metadata": {
    "collapsed": true
   },
   "outputs": [],
   "source": [
    "mesh = UnitSquareMesh(4,4)"
   ]
  },
  {
   "cell_type": "code",
   "execution_count": 3,
   "metadata": {
    "collapsed": false
   },
   "outputs": [
    {
     "data": {
      "image/svg+xml": [
       "\n",
       "    <svg xmlns=\"http://www.w3.org/2000/svg\" version=\"1.1\" width=\"840\" height=\"840\">\n",
       "    <line x1=\"20\" y1=\"820\" x2=\"220\" y2=\"820\" style=\"fill:none; stroke:black; stroke-width:\"2\" />\n",
       "<line x1=\"20\" y1=\"820\" x2=\"20\" y2=\"620\" style=\"fill:none; stroke:black; stroke-width:\"2\" />\n",
       "<line x1=\"20\" y1=\"820\" x2=\"220\" y2=\"620\" style=\"fill:none; stroke:black; stroke-width:\"2\" />\n",
       "<line x1=\"220\" y1=\"820\" x2=\"420\" y2=\"820\" style=\"fill:none; stroke:black; stroke-width:\"2\" />\n",
       "<line x1=\"220\" y1=\"820\" x2=\"220\" y2=\"620\" style=\"fill:none; stroke:black; stroke-width:\"2\" />\n",
       "<line x1=\"220\" y1=\"820\" x2=\"420\" y2=\"620\" style=\"fill:none; stroke:black; stroke-width:\"2\" />\n",
       "<line x1=\"420\" y1=\"820\" x2=\"620\" y2=\"820\" style=\"fill:none; stroke:black; stroke-width:\"2\" />\n",
       "<line x1=\"420\" y1=\"820\" x2=\"420\" y2=\"620\" style=\"fill:none; stroke:black; stroke-width:\"2\" />\n",
       "<line x1=\"420\" y1=\"820\" x2=\"620\" y2=\"620\" style=\"fill:none; stroke:black; stroke-width:\"2\" />\n",
       "<line x1=\"620\" y1=\"820\" x2=\"820\" y2=\"820\" style=\"fill:none; stroke:black; stroke-width:\"2\" />\n",
       "<line x1=\"620\" y1=\"820\" x2=\"620\" y2=\"620\" style=\"fill:none; stroke:black; stroke-width:\"2\" />\n",
       "<line x1=\"620\" y1=\"820\" x2=\"820\" y2=\"620\" style=\"fill:none; stroke:black; stroke-width:\"2\" />\n",
       "<line x1=\"820\" y1=\"820\" x2=\"820\" y2=\"620\" style=\"fill:none; stroke:black; stroke-width:\"2\" />\n",
       "<line x1=\"20\" y1=\"620\" x2=\"220\" y2=\"620\" style=\"fill:none; stroke:black; stroke-width:\"2\" />\n",
       "<line x1=\"20\" y1=\"620\" x2=\"20\" y2=\"420\" style=\"fill:none; stroke:black; stroke-width:\"2\" />\n",
       "<line x1=\"20\" y1=\"620\" x2=\"220\" y2=\"420\" style=\"fill:none; stroke:black; stroke-width:\"2\" />\n",
       "<line x1=\"220\" y1=\"620\" x2=\"420\" y2=\"620\" style=\"fill:none; stroke:black; stroke-width:\"2\" />\n",
       "<line x1=\"220\" y1=\"620\" x2=\"220\" y2=\"420\" style=\"fill:none; stroke:black; stroke-width:\"2\" />\n",
       "<line x1=\"220\" y1=\"620\" x2=\"420\" y2=\"420\" style=\"fill:none; stroke:black; stroke-width:\"2\" />\n",
       "<line x1=\"420\" y1=\"620\" x2=\"620\" y2=\"620\" style=\"fill:none; stroke:black; stroke-width:\"2\" />\n",
       "<line x1=\"420\" y1=\"620\" x2=\"420\" y2=\"420\" style=\"fill:none; stroke:black; stroke-width:\"2\" />\n",
       "<line x1=\"420\" y1=\"620\" x2=\"620\" y2=\"420\" style=\"fill:none; stroke:black; stroke-width:\"2\" />\n",
       "<line x1=\"620\" y1=\"620\" x2=\"820\" y2=\"620\" style=\"fill:none; stroke:black; stroke-width:\"2\" />\n",
       "<line x1=\"620\" y1=\"620\" x2=\"620\" y2=\"420\" style=\"fill:none; stroke:black; stroke-width:\"2\" />\n",
       "<line x1=\"620\" y1=\"620\" x2=\"820\" y2=\"420\" style=\"fill:none; stroke:black; stroke-width:\"2\" />\n",
       "<line x1=\"820\" y1=\"620\" x2=\"820\" y2=\"420\" style=\"fill:none; stroke:black; stroke-width:\"2\" />\n",
       "<line x1=\"20\" y1=\"420\" x2=\"220\" y2=\"420\" style=\"fill:none; stroke:black; stroke-width:\"2\" />\n",
       "<line x1=\"20\" y1=\"420\" x2=\"20\" y2=\"220\" style=\"fill:none; stroke:black; stroke-width:\"2\" />\n",
       "<line x1=\"20\" y1=\"420\" x2=\"220\" y2=\"220\" style=\"fill:none; stroke:black; stroke-width:\"2\" />\n",
       "<line x1=\"220\" y1=\"420\" x2=\"420\" y2=\"420\" style=\"fill:none; stroke:black; stroke-width:\"2\" />\n",
       "<line x1=\"220\" y1=\"420\" x2=\"220\" y2=\"220\" style=\"fill:none; stroke:black; stroke-width:\"2\" />\n",
       "<line x1=\"220\" y1=\"420\" x2=\"420\" y2=\"220\" style=\"fill:none; stroke:black; stroke-width:\"2\" />\n",
       "<line x1=\"420\" y1=\"420\" x2=\"620\" y2=\"420\" style=\"fill:none; stroke:black; stroke-width:\"2\" />\n",
       "<line x1=\"420\" y1=\"420\" x2=\"420\" y2=\"220\" style=\"fill:none; stroke:black; stroke-width:\"2\" />\n",
       "<line x1=\"420\" y1=\"420\" x2=\"620\" y2=\"220\" style=\"fill:none; stroke:black; stroke-width:\"2\" />\n",
       "<line x1=\"620\" y1=\"420\" x2=\"820\" y2=\"420\" style=\"fill:none; stroke:black; stroke-width:\"2\" />\n",
       "<line x1=\"620\" y1=\"420\" x2=\"620\" y2=\"220\" style=\"fill:none; stroke:black; stroke-width:\"2\" />\n",
       "<line x1=\"620\" y1=\"420\" x2=\"820\" y2=\"220\" style=\"fill:none; stroke:black; stroke-width:\"2\" />\n",
       "<line x1=\"820\" y1=\"420\" x2=\"820\" y2=\"220\" style=\"fill:none; stroke:black; stroke-width:\"2\" />\n",
       "<line x1=\"20\" y1=\"220\" x2=\"220\" y2=\"220\" style=\"fill:none; stroke:black; stroke-width:\"2\" />\n",
       "<line x1=\"20\" y1=\"220\" x2=\"20\" y2=\"20\" style=\"fill:none; stroke:black; stroke-width:\"2\" />\n",
       "<line x1=\"20\" y1=\"220\" x2=\"220\" y2=\"20\" style=\"fill:none; stroke:black; stroke-width:\"2\" />\n",
       "<line x1=\"220\" y1=\"220\" x2=\"420\" y2=\"220\" style=\"fill:none; stroke:black; stroke-width:\"2\" />\n",
       "<line x1=\"220\" y1=\"220\" x2=\"220\" y2=\"20\" style=\"fill:none; stroke:black; stroke-width:\"2\" />\n",
       "<line x1=\"220\" y1=\"220\" x2=\"420\" y2=\"20\" style=\"fill:none; stroke:black; stroke-width:\"2\" />\n",
       "<line x1=\"420\" y1=\"220\" x2=\"620\" y2=\"220\" style=\"fill:none; stroke:black; stroke-width:\"2\" />\n",
       "<line x1=\"420\" y1=\"220\" x2=\"420\" y2=\"20\" style=\"fill:none; stroke:black; stroke-width:\"2\" />\n",
       "<line x1=\"420\" y1=\"220\" x2=\"620\" y2=\"20\" style=\"fill:none; stroke:black; stroke-width:\"2\" />\n",
       "<line x1=\"620\" y1=\"220\" x2=\"820\" y2=\"220\" style=\"fill:none; stroke:black; stroke-width:\"2\" />\n",
       "<line x1=\"620\" y1=\"220\" x2=\"620\" y2=\"20\" style=\"fill:none; stroke:black; stroke-width:\"2\" />\n",
       "<line x1=\"620\" y1=\"220\" x2=\"820\" y2=\"20\" style=\"fill:none; stroke:black; stroke-width:\"2\" />\n",
       "<line x1=\"820\" y1=\"220\" x2=\"820\" y2=\"20\" style=\"fill:none; stroke:black; stroke-width:\"2\" />\n",
       "<line x1=\"20\" y1=\"20\" x2=\"220\" y2=\"20\" style=\"fill:none; stroke:black; stroke-width:\"2\" />\n",
       "<line x1=\"220\" y1=\"20\" x2=\"420\" y2=\"20\" style=\"fill:none; stroke:black; stroke-width:\"2\" />\n",
       "<line x1=\"420\" y1=\"20\" x2=\"620\" y2=\"20\" style=\"fill:none; stroke:black; stroke-width:\"2\" />\n",
       "<line x1=\"620\" y1=\"20\" x2=\"820\" y2=\"20\" style=\"fill:none; stroke:black; stroke-width:\"2\" />\n",
       "    <circle cx=\"20\" cy=\"820\" r=\"2\" stroke=\"black\" stroke-width=\"0\" fill=\"red\" />\n",
       "<circle cx=\"220\" cy=\"820\" r=\"2\" stroke=\"black\" stroke-width=\"0\" fill=\"red\" />\n",
       "<circle cx=\"420\" cy=\"820\" r=\"2\" stroke=\"black\" stroke-width=\"0\" fill=\"red\" />\n",
       "<circle cx=\"620\" cy=\"820\" r=\"2\" stroke=\"black\" stroke-width=\"0\" fill=\"red\" />\n",
       "<circle cx=\"820\" cy=\"820\" r=\"2\" stroke=\"black\" stroke-width=\"0\" fill=\"red\" />\n",
       "<circle cx=\"20\" cy=\"620\" r=\"2\" stroke=\"black\" stroke-width=\"0\" fill=\"red\" />\n",
       "<circle cx=\"220\" cy=\"620\" r=\"2\" stroke=\"black\" stroke-width=\"0\" fill=\"red\" />\n",
       "<circle cx=\"420\" cy=\"620\" r=\"2\" stroke=\"black\" stroke-width=\"0\" fill=\"red\" />\n",
       "<circle cx=\"620\" cy=\"620\" r=\"2\" stroke=\"black\" stroke-width=\"0\" fill=\"red\" />\n",
       "<circle cx=\"820\" cy=\"620\" r=\"2\" stroke=\"black\" stroke-width=\"0\" fill=\"red\" />\n",
       "<circle cx=\"20\" cy=\"420\" r=\"2\" stroke=\"black\" stroke-width=\"0\" fill=\"red\" />\n",
       "<circle cx=\"220\" cy=\"420\" r=\"2\" stroke=\"black\" stroke-width=\"0\" fill=\"red\" />\n",
       "<circle cx=\"420\" cy=\"420\" r=\"2\" stroke=\"black\" stroke-width=\"0\" fill=\"red\" />\n",
       "<circle cx=\"620\" cy=\"420\" r=\"2\" stroke=\"black\" stroke-width=\"0\" fill=\"red\" />\n",
       "<circle cx=\"820\" cy=\"420\" r=\"2\" stroke=\"black\" stroke-width=\"0\" fill=\"red\" />\n",
       "<circle cx=\"20\" cy=\"220\" r=\"2\" stroke=\"black\" stroke-width=\"0\" fill=\"red\" />\n",
       "<circle cx=\"220\" cy=\"220\" r=\"2\" stroke=\"black\" stroke-width=\"0\" fill=\"red\" />\n",
       "<circle cx=\"420\" cy=\"220\" r=\"2\" stroke=\"black\" stroke-width=\"0\" fill=\"red\" />\n",
       "<circle cx=\"620\" cy=\"220\" r=\"2\" stroke=\"black\" stroke-width=\"0\" fill=\"red\" />\n",
       "<circle cx=\"820\" cy=\"220\" r=\"2\" stroke=\"black\" stroke-width=\"0\" fill=\"red\" />\n",
       "<circle cx=\"20\" cy=\"20\" r=\"2\" stroke=\"black\" stroke-width=\"0\" fill=\"red\" />\n",
       "<circle cx=\"220\" cy=\"20\" r=\"2\" stroke=\"black\" stroke-width=\"0\" fill=\"red\" />\n",
       "<circle cx=\"420\" cy=\"20\" r=\"2\" stroke=\"black\" stroke-width=\"0\" fill=\"red\" />\n",
       "<circle cx=\"620\" cy=\"20\" r=\"2\" stroke=\"black\" stroke-width=\"0\" fill=\"red\" />\n",
       "<circle cx=\"820\" cy=\"20\" r=\"2\" stroke=\"black\" stroke-width=\"0\" fill=\"red\" />\n",
       "    </svg>\n",
       "    "
      ],
      "text/html": [
       "<!DOCTYPE html>\n",
       "<html>\n",
       "  <head>\n",
       "    <meta http-equiv=\"content-type\" content=\"text/html;charset=UTF-8\" />\n",
       "    <meta name=\"generator\" content=\"FEniCS/DOLFIN (http://fenicsproject.org)\" />\n",
       "    <title>FEniCS/DOLFIN X3DOM plot</title>\n",
       "    <script type=\"text/javascript\" src=\"http://www.x3dom.org/download/x3dom.js\"></script>\n",
       "    <link rel=\"stylesheet\" type=\"text/css\" href=\"http://www.x3dom.org/download/x3dom.css\" />\n",
       "  </head>\n",
       "  <body>\n",
       "    <x3d showStat=\"false\" xmlns=\"http://www.web3d.org/specifications/x3d-namespace\" width=\"500.000000px\" height=\"400.000000px\">\n",
       "      <scene>\n",
       "        <shape>\n",
       "          <appearance>\n",
       "            <material diffuseColor=\"1.000000 1.000000 1.000000\" emissiveColor=\"0.000000 0.000000 0.000000\" specularColor=\"0.000000 0.000000 0.000000\" ambientIntensity=\"0\" shininess=\"0.5\" transparency=\"0\"></material>\n",
       "          </appearance>\n",
       "          <indexedFaceSet solid=\"false\" colorPerVertex=\"false\" coordIndex=\"0 1 6 -1 0 5 6 -1 1 2 7 -1 1 6 7 -1 2 3 8 -1 2 7 8 -1 3 4 9 -1 3 8 9 -1 5 6 11 -1 5 10 11 -1 6 7 12 -1 6 11 12 -1 7 8 13 -1 7 12 13 -1 8 9 14 -1 8 13 14 -1 10 11 16 -1 10 15 16 -1 11 12 17 -1 11 16 17 -1 12 13 18 -1 12 17 18 -1 13 14 19 -1 13 18 19 -1 15 16 21 -1 15 20 21 -1 16 17 22 -1 16 21 22 -1 17 18 23 -1 17 22 23 -1 18 19 24 -1 18 23 24 -1 \">\n",
       "            <coordinate point=\"0 0 0 0.25 0 0 0.5 0 0 0.75 0 0 1 0 0 0 0.25 0 0.25 0.25 0 0.5 0.25 0 0.75 0.25 0 1 0.25 0 0 0.5 0 0.25 0.5 0 0.5 0.5 0 0.75 0.5 0 1 0.5 0 0 0.75 0 0.25 0.75 0 0.5 0.75 0 0.75 0.75 0 1 0.75 0 0 1 0 0.25 1 0 0.5 1 0 0.75 1 0 1 1 0 \"></coordinate>\n",
       "          </indexedFaceSet>\n",
       "        </shape>\n",
       "        <shape>\n",
       "          <appearance>\n",
       "            <material emissiveColor=\"0.000000 0.000000 0.000000\" specularColor=\"0.000000 0.000000 0.000000\" ambientIntensity=\"0\" shininess=\"0.5\" transparency=\"0\"></material>\n",
       "          </appearance>\n",
       "          <indexedLineSet solid=\"false\" colorPerVertex=\"false\" coordIndex=\"0 1 -1 0 5 -1 0 6 -1 1 2 -1 1 6 -1 1 7 -1 2 3 -1 2 7 -1 2 8 -1 3 4 -1 3 8 -1 3 9 -1 4 9 -1 5 6 -1 5 10 -1 5 11 -1 6 7 -1 6 11 -1 6 12 -1 7 8 -1 7 12 -1 7 13 -1 8 9 -1 8 13 -1 8 14 -1 9 14 -1 10 11 -1 10 15 -1 10 16 -1 11 12 -1 11 16 -1 11 17 -1 12 13 -1 12 17 -1 12 18 -1 13 14 -1 13 18 -1 13 19 -1 14 19 -1 15 16 -1 15 20 -1 15 21 -1 16 17 -1 16 21 -1 16 22 -1 17 18 -1 17 22 -1 17 23 -1 18 19 -1 18 23 -1 18 24 -1 19 24 -1 20 21 -1 21 22 -1 22 23 -1 23 24 -1 \">\n",
       "            <coordinate point=\"0 0 0 0.25 0 0 0.5 0 0 0.75 0 0 1 0 0 0 0.25 0 0.25 0.25 0 0.5 0.25 0 0.75 0.25 0 1 0.25 0 0 0.5 0 0.25 0.5 0 0.5 0.5 0 0.75 0.5 0 1 0.5 0 0 0.75 0 0.25 0.75 0 0.5 0.75 0 0.75 0.75 0 1 0.75 0 0 1 0 0.25 1 0 0.5 1 0 0.75 1 0 1 1 0 \"></coordinate>\n",
       "          </indexedLineSet>\n",
       "        </shape>\n",
       "        <viewpoint id=\"default\" position=\"1.914214 1.914214 1.414214\" orientation=\"-0.7071067812 0.7071067812 0 1\" fieldOfView=\"0.785398\" centerOfRotation=\"0.500000 0.500000 0.000000\" zNear=\"-1\" zFar=\"-1\"></viewpoint>\n",
       "        <background skyColor=\"0.950000 0.950000 0.950000\"></background>\n",
       "        <directionalLight ambientIntensity=\"0\" intensity=\"1\"></directionalLight>\n",
       "      </scene>\n",
       "    </x3d>\n",
       "    <div style=\"position: absolute; margin: 1%; text-align: left; font-size: 12px; color: black;\">Number of vertices: 25, number of cells: 32</div>\n",
       "  </body>\n",
       "</html>\n"
      ],
      "text/plain": [
       "<dolfin.cpp.mesh.UnitSquareMesh; proxy of <Swig Object of type 'std::shared_ptr< dolfin::UnitSquareMesh > *' at 0x115f8b510> >"
      ]
     },
     "execution_count": 3,
     "metadata": {},
     "output_type": "execute_result"
    }
   ],
   "source": [
    "mesh"
   ]
  },
  {
   "cell_type": "code",
   "execution_count": 6,
   "metadata": {
    "collapsed": false
   },
   "outputs": [
    {
     "data": {
      "text/plain": [
       "<module 'dolfin.mesh' from '/Library/Python/2.7/site-packages/dolfin/mesh/__init__.pyc'>"
      ]
     },
     "execution_count": 6,
     "metadata": {},
     "output_type": "execute_result"
    }
   ],
   "source": [
    "mesh"
   ]
  }
 ],
 "metadata": {
  "kernelspec": {
   "display_name": "Python 2",
   "language": "python",
   "name": "python2"
  },
  "language_info": {
   "codemirror_mode": {
    "name": "ipython",
    "version": 2
   },
   "file_extension": ".py",
   "mimetype": "text/x-python",
   "name": "python",
   "nbconvert_exporter": "python",
   "pygments_lexer": "ipython2",
   "version": "2.7.10"
  }
 },
 "nbformat": 4,
 "nbformat_minor": 0
}
